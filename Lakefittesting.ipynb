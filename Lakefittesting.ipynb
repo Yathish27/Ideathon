{
 "cells": [
  {
   "cell_type": "code",
   "execution_count": 4,
   "metadata": {},
   "outputs": [],
   "source": [
    "import numpy as np\n",
    "import pandas as pd\n",
    "import matplotlib.pyplot as plt\n"
   ]
  },
  {
   "cell_type": "code",
   "execution_count": 5,
   "metadata": {},
   "outputs": [],
   "source": [
    "data=pd.read_csv('Wastewateranalysis.csv')\n"
   ]
  },
  {
   "cell_type": "code",
   "execution_count": 1,
   "metadata": {},
   "outputs": [],
   "source": [
    "from boltiot import Email, Bolt\n",
    "import json, time\n",
    "import requests \n",
    "import confnew"
   ]
  },
  {
   "cell_type": "code",
   "execution_count": 6,
   "metadata": {},
   "outputs": [],
   "source": [
    "#PH\n",
    "mini =float(data['DESIRABLE LIMIT'][0][0:3])\n",
    "maxi=data['PERMISSIBLE LIMIT'][0]"
   ]
  },
  {
   "cell_type": "code",
   "execution_count": 7,
   "metadata": {},
   "outputs": [],
   "source": [
    "def send_telegram_message(message):\n",
    "    \"\"\"Sends message via Telegram\"\"\"\n",
    "    url = \"https://api.telegram.org/\" + confnew.telegram_bot_id + \"/sendMessage\"\n",
    "    data = {\n",
    "        \"chat_id\": confnew.telegram_chat_id,\n",
    "        \"text\": message\n",
    "    }\n",
    "    try:\n",
    "        response = requests.request(\"POST\",url,params=data        )\n",
    "        print(\"This is the Telegram URL\")\n",
    "        print(url)\n",
    "        print(\"This is the Telegram response\")\n",
    "        print(response.text)\n",
    "        telegram_data = json.loads(response.text)\n",
    "        return telegram_data[\"ok\"]\n",
    "    except Exception as e:\n",
    "        print(\"An error occurred in sending the alert message via Telegram\")\n",
    "        print(e)\n",
    "        return False"
   ]
  },
  {
   "cell_type": "code",
   "execution_count": 8,
   "metadata": {},
   "outputs": [],
   "source": [
    "test_passed=[]"
   ]
  },
  {
   "cell_type": "code",
   "execution_count": 9,
   "metadata": {},
   "outputs": [
    {
     "name": "stdout",
     "output_type": "stream",
     "text": [
      "pH test passed\n"
     ]
    }
   ],
   "source": [
    "#ph sensor\n",
    "if float(data['LAKE SAMPLES'][0])> maxi:\n",
    "        print(\"pH Sensor value has exceeded threshold Permissible Limit\")\n",
    "        message = \"Alert! pH value has exceeded Permissible Limit :\" + str(maxi) + \". \\n The current value is \" +str(data['LAKE SAMPLES'][0])\n",
    "        telegram_status = send_telegram_message(message)\n",
    "        print(\"This is the Telegram status:\", telegram_status)\n",
    "        test_passed.append(0)\n",
    "if float(data['LAKE SAMPLES'][0])< mini:\n",
    "        print(\"pH Sensor value is less than  Desirable Limit\")\n",
    "        message = \"Alert! pH value less than Desirable Limit:  \" + str(mini) + \". \\n The current value is \" + str(data['LAKE SAMPLES'][0])\n",
    "        telegram_status = send_telegram_message(message)\n",
    "        print(\"This is the Telegram status:\", telegram_status)\n",
    "        test_passed.append(0)\n",
    "if float(data['LAKE SAMPLES'][0])< maxi and float(data['LAKE SAMPLES'][0])> mini:\n",
    "    print(\"pH test passed\")\n",
    "    test_passed.append(1)\n"
   ]
  },
  {
   "cell_type": "code",
   "execution_count": 10,
   "metadata": {},
   "outputs": [],
   "source": [
    "#TDS meter\n",
    "mini1 =int(data['DESIRABLE LIMIT'][1])\n",
    "maxi1=int(data['PERMISSIBLE LIMIT'][1])"
   ]
  },
  {
   "cell_type": "code",
   "execution_count": 11,
   "metadata": {},
   "outputs": [
    {
     "name": "stdout",
     "output_type": "stream",
     "text": [
      "TDS test passed\n"
     ]
    }
   ],
   "source": [
    "if data['LAKE SAMPLES'][1]> maxi1:\n",
    "        print(\"TDS Sensor meter value has exceeded threshold Permissible Limit\")\n",
    "        message = \"Alert! TDS Sensor meter value has exceeded Permissible Limit:\" + str(maxi1) + \".\\n The current value is \" + str(data['LAKE SAMPLES'][1])\n",
    "        telegram_status = send_telegram_message(message)\n",
    "        print(\"This is the Telegram status:\", telegram_status)\n",
    "        test_passed.append(0)\n",
    "if data['LAKE SAMPLES'][1] < mini1:\n",
    "        print(\"TDS Sensor metervalue is less than  Desirable Limit\")\n",
    "        message = \"Alert! TDS Sensor meter value less than Desirable Limit:\" + str(mini1) + \". \\n The current value is \" + str(data['LAKE SAMPLES'][1])\n",
    "        telegram_status = send_telegram_message(message)\n",
    "        print(\"This is the Telegram status:\", telegram_status)\n",
    "        test_passed.append(0)\n",
    "if float(data['LAKE SAMPLES'][1])< maxi1 and float(data['LAKE SAMPLES'][1])> mini1:\n",
    "    print(\"TDS test passed\")\n",
    "    test_passed.append(1)\n"
   ]
  },
  {
   "cell_type": "code",
   "execution_count": 12,
   "metadata": {},
   "outputs": [],
   "source": [
    "#Lab analysis of Cl,Ca,Alkalinity and Total hardness in ppm"
   ]
  },
  {
   "cell_type": "code",
   "execution_count": 13,
   "metadata": {},
   "outputs": [],
   "source": [
    "#Chloride\n",
    "mini2 =int(data['DESIRABLE LIMIT'][2])\n",
    "maxi2=int(data['PERMISSIBLE LIMIT'][2])"
   ]
  },
  {
   "cell_type": "code",
   "execution_count": 32,
   "metadata": {},
   "outputs": [
    {
     "name": "stdout",
     "output_type": "stream",
     "text": [
      "Chloride value is less than  Desirable Limit\n",
      "This is the Telegram URL\n",
      "https://api.telegram.org/bot1371882065:AAHejdhLII5ib4TVf7JHC7lICYqoH4ZcrgY/sendMessage\n",
      "This is the Telegram response\n",
      "{\"ok\":true,\"result\":{\"message_id\":40,\"chat\":{\"id\":-1001199773589,\"title\":\"Ideathon Project\",\"username\":\"ideathon\",\"type\":\"channel\"},\"date\":1603469714,\"text\":\"Alert! Chloride value less than Desirable Limit :250. \\n The current value is 159.0\"}}\n",
      "This is the Telegram status: True\n"
     ]
    }
   ],
   "source": [
    "if data['LAKE SAMPLES'][2]> maxi2:\n",
    "        print(\"Chloride value has exceeded threshold Permissible Limit\")\n",
    "        message = \"Alert! Chloride value has exceeded Permissible Limit:\" + str(maxi2) + \".\\n The current value is \" + str(data['LAKE SAMPLES'][2])\n",
    "        telegram_status = send_telegram_message(message)\n",
    "        print(\"This is the Telegram status:\", telegram_status)\n",
    "        test_passed.append(0)\n",
    "if data['LAKE SAMPLES'][2] < mini2:\n",
    "        print(\"Chloride value is less than  Desirable Limit\")\n",
    "        message = \"Alert! Chloride value less than Desirable Limit :\" + str(mini2) + \". \\n The current value is \" + str(data['LAKE SAMPLES'][2])\n",
    "        telegram_status = send_telegram_message(message)\n",
    "        print(\"This is the Telegram status:\", telegram_status)\n",
    "        test_passed.append(0)\n",
    "if float(data['LAKE SAMPLES'][2])< maxi2 and float(data['LAKE SAMPLES'][2])> mini2:\n",
    "    print(\"Chloride test passed\")\n",
    "    test_passed.append(1)\n"
   ]
  },
  {
   "cell_type": "code",
   "execution_count": 15,
   "metadata": {},
   "outputs": [],
   "source": [
    "mini3 =int(data['DESIRABLE LIMIT'][3])\n",
    "maxi3=int(data['PERMISSIBLE LIMIT'][3])"
   ]
  },
  {
   "cell_type": "code",
   "execution_count": 16,
   "metadata": {},
   "outputs": [
    {
     "name": "stdout",
     "output_type": "stream",
     "text": [
      "Calcium test passed\n"
     ]
    }
   ],
   "source": [
    "if data['LAKE SAMPLES'][3]> maxi3:\n",
    "        print(\"Calcium  value has exceeded threshold Permissible Limit\")\n",
    "        message = \"Alert! Calcium  value has exceeded Permissible Limit:\" + str(maxi3) + \".\\n The current value is \" + str(data['LAKE SAMPLES'][3])\n",
    "        telegram_status = send_telegram_message(message)\n",
    "        print(\"This is the Telegram status:\", telegram_status)\n",
    "        test_passed.append(0)\n",
    "if data['LAKE SAMPLES'][3] < mini3:\n",
    "        print(\"Calcium value is less than  Desirable Limit\")\n",
    "        message = \"Alert! Calcium  value less than Desirable Limit :\" + str(mini3) + \". \\n The current value is \" + str(data['LAKE SAMPLES'][3])\n",
    "        telegram_status = send_telegram_message(message)\n",
    "        print(\"This is the Telegram status:\", telegram_status)\n",
    "        test_passed.append(0)\n",
    "if float(data['LAKE SAMPLES'][3])< maxi3 and float(data['LAKE SAMPLES'][3])> mini3:\n",
    "    print(\"Calcium test passed\")\n",
    "    test_passed.append(1)\n"
   ]
  },
  {
   "cell_type": "code",
   "execution_count": 17,
   "metadata": {},
   "outputs": [],
   "source": [
    "mini4 =int(data['DESIRABLE LIMIT'][4])\n",
    "maxi4=int(data['PERMISSIBLE LIMIT'][4])"
   ]
  },
  {
   "cell_type": "code",
   "execution_count": 18,
   "metadata": {},
   "outputs": [
    {
     "name": "stdout",
     "output_type": "stream",
     "text": [
      "Alkalinity test passed\n"
     ]
    }
   ],
   "source": [
    "if data['LAKE SAMPLES'][4]> maxi4:\n",
    "        print(\"Alkalinity  value has exceeded threshold Permissible Limit\")\n",
    "        message = \"Alert! Alkalinity value has exceeded Permissible Limit:\" + str(maxi4) + \".\\n The current value is \" + str(data['LAKE SAMPLES'][4])\n",
    "        telegram_status = send_telegram_message(message)\n",
    "        print(\"This is the Telegram status:\", telegram_status)\n",
    "        test_passed.append(0)\n",
    "if data['LAKE SAMPLES'][4] < mini4:\n",
    "        print(\"Calcium value is less than  Desirable Limit\")\n",
    "        message = \"Alert! Alkalinity value less than Desirable Limit :\" + str(mini4) + \". \\n The current value is \" + str(data['LAKE SAMPLES'][4])\n",
    "        telegram_status = send_telegram_message(message)\n",
    "        print(\"This is the Telegram status:\", telegram_status)\n",
    "        test_passed.append(0)\n",
    "if data['LAKE SAMPLES'][4]< maxi4 and data['LAKE SAMPLES'][4] > mini4:\n",
    "    print(\"Alkalinity test passed\")\n",
    "    test_passed.append(1)\n"
   ]
  },
  {
   "cell_type": "code",
   "execution_count": 19,
   "metadata": {},
   "outputs": [],
   "source": [
    "mini5 =int(data['DESIRABLE LIMIT'][5])\n",
    "maxi5=int(data['PERMISSIBLE LIMIT'][5])"
   ]
  },
  {
   "cell_type": "code",
   "execution_count": 22,
   "metadata": {},
   "outputs": [
    {
     "name": "stdout",
     "output_type": "stream",
     "text": [
      "TSS test passed\n"
     ]
    }
   ],
   "source": [
    "if data['LAKE SAMPLES'][5]> maxi5:\n",
    "        print(\"TSS sensor value has exceeded threshold Permissible Limit\")\n",
    "        message = \"Alert! TSS value has exceeded Permissible Limit:\" + str(maxi5) + \".\\n The current value is \" + str(data['LAKE SAMPLES'][5])\n",
    "        telegram_status = send_telegram_message(message)\n",
    "        print(\"This is the Telegram status:\", telegram_status)\n",
    "        test_passed.append(0)\n",
    "if data['LAKE SAMPLES'][5] < mini5:\n",
    "        print(\"TSS sensor value is less than  Desirable Limit\")\n",
    "        message = \"Alert! TSSe value less than Desirable Limit :\" + str(mini5) + \". \\n The current value is \" + str(data['LAKE SAMPLES'][5])\n",
    "        telegram_status = send_telegram_message(message)\n",
    "        print(\"This is the Telegram status:\", telegram_status)\n",
    "        test_passed.append(0)\n",
    "if data['LAKE SAMPLES'][5]< maxi5 and data['LAKE SAMPLES'][5] > mini5:\n",
    "    print(\"TSS test passed\")\n",
    "    test_passed.append(1)\n"
   ]
  },
  {
   "cell_type": "code",
   "execution_count": 25,
   "metadata": {},
   "outputs": [
    {
     "name": "stdout",
     "output_type": "stream",
     "text": [
      "937.0 ppm of solid waste\n"
     ]
    }
   ],
   "source": [
    "#Total Solids(TS)=TDS+TSS\n",
    "#TS amount of solids needed to be filtered by the filter mesh using stainless steel\n",
    "TS=data['LAKE SAMPLES'][1]+data['LAKE SAMPLES'][5]\n",
    "print(TS,\"ppm\"+\" of solid waste\")\n"
   ]
  },
  {
   "cell_type": "code",
   "execution_count": 26,
   "metadata": {},
   "outputs": [],
   "source": [
    "mini6 =int(data['DESIRABLE LIMIT'][6])\n",
    "maxi6=int(data['PERMISSIBLE LIMIT'][6])"
   ]
  },
  {
   "cell_type": "code",
   "execution_count": 27,
   "metadata": {},
   "outputs": [
    {
     "name": "stdout",
     "output_type": "stream",
     "text": [
      "TSS test passed\n"
     ]
    }
   ],
   "source": [
    "if data['LAKE SAMPLES'][6]> maxi6:\n",
    "        print(\"Total hardness sensor value has exceeded threshold Permissible Limit\")\n",
    "        message = \"Alert! Total hardness value has exceeded Permissible Limit:\" + str(maxi6) + \".\\n The current value is \" + str(data['LAKE SAMPLES'][6])\n",
    "        telegram_status = send_telegram_message(message)\n",
    "        print(\"This is the Telegram status:\", telegram_status)\n",
    "        test_passed.append(0)\n",
    "if data['LAKE SAMPLES'][6] < mini6:\n",
    "        print(\"Total hardness sensor value is less than  Desirable Limit\")\n",
    "        message = \"Alert! Total hardness value less than Desirable Limit :\" + str(mini6) + \". \\n The current value is \" + str(data['LAKE SAMPLES'][6])\n",
    "        telegram_status = send_telegram_message(message)\n",
    "        print(\"This is the Telegram status:\", telegram_status)\n",
    "        test_passed.append(0)\n",
    "if data['LAKE SAMPLES'][6]< maxi6 and data['LAKE SAMPLES'][6] > mini6:\n",
    "    print(\"TSS test passed\")\n",
    "    test_passed.append(1)\n"
   ]
  },
  {
   "cell_type": "code",
   "execution_count": 28,
   "metadata": {},
   "outputs": [
    {
     "data": {
      "text/plain": [
       "[1, 1, 0, 1, 1, 1, 1]"
      ]
     },
     "execution_count": 28,
     "metadata": {},
     "output_type": "execute_result"
    }
   ],
   "source": [
    "test_passed"
   ]
  },
  {
   "cell_type": "code",
   "execution_count": 31,
   "metadata": {},
   "outputs": [
    {
     "name": "stdout",
     "output_type": "stream",
     "text": [
      "Treatment requried\n"
     ]
    }
   ],
   "source": [
    "cnt=0\n",
    "for i in test_passed:\n",
    "    if i==1:\n",
    "        cnt+=1\n",
    "if cnt==7:\n",
    "    print(\"Test succeded can be used as non portable water\")\n",
    "if cnt >5:\n",
    "    print(\"Treatment requried\")\n",
    "else:\n",
    "    print(\"Unfit water purification required\")"
   ]
  },
  {
   "cell_type": "code",
   "execution_count": null,
   "metadata": {},
   "outputs": [],
   "source": []
  }
 ],
 "metadata": {
  "kernelspec": {
   "display_name": "Python 3",
   "language": "python",
   "name": "python3"
  },
  "language_info": {
   "codemirror_mode": {
    "name": "ipython",
    "version": 3
   },
   "file_extension": ".py",
   "mimetype": "text/x-python",
   "name": "python",
   "nbconvert_exporter": "python",
   "pygments_lexer": "ipython3",
   "version": "3.7.0"
  }
 },
 "nbformat": 4,
 "nbformat_minor": 2
}
