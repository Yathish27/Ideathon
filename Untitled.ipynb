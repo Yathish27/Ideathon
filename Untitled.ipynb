{
 "cells": [
  {
   "cell_type": "code",
   "execution_count": 33,
   "metadata": {},
   "outputs": [],
   "source": [
    "import numpy as np\n",
    "import pandas as pd\n",
    "import matplotlib.pyplot as plt\n"
   ]
  },
  {
   "cell_type": "code",
   "execution_count": 71,
   "metadata": {},
   "outputs": [],
   "source": [
    "data=pd.read_csv('Wastewateranalysis.csv')\n"
   ]
  },
  {
   "cell_type": "code",
   "execution_count": 66,
   "metadata": {},
   "outputs": [],
   "source": [
    "from boltiot import Email, Bolt\n",
    "import json, time\n",
    "import requests \n",
    "import confnew"
   ]
  },
  {
   "cell_type": "code",
   "execution_count": 83,
   "metadata": {},
   "outputs": [],
   "source": [
    "#PH\n",
    "mini =float(data['DESIRABLE LIMIT'][0][0:3])\n",
    "maxi=data['PERMISSIBLE LIMIT'][0]"
   ]
  },
  {
   "cell_type": "code",
   "execution_count": 70,
   "metadata": {},
   "outputs": [],
   "source": [
    "def send_telegram_message(message):\n",
    "    \"\"\"Sends message via Telegram\"\"\"\n",
    "    url = \"https://api.telegram.org/\" + confnew.telegram_bot_id + \"/sendMessage\"\n",
    "    data = {\n",
    "        \"chat_id\": confnew.telegram_chat_id,\n",
    "        \"text\": message\n",
    "    }\n",
    "    try:\n",
    "        response = requests.request(\"POST\",url,params=data        )\n",
    "        print(\"This is the Telegram URL\")\n",
    "        print(url)\n",
    "        print(\"This is the Telegram response\")\n",
    "        print(response.text)\n",
    "        telegram_data = json.loads(response.text)\n",
    "        return telegram_data[\"ok\"]\n",
    "    except Exception as e:\n",
    "        print(\"An error occurred in sending the alert message via Telegram\")\n",
    "        print(e)\n",
    "        return False"
   ]
  },
  {
   "cell_type": "code",
   "execution_count": 84,
   "metadata": {},
   "outputs": [
    {
     "name": "stdout",
     "output_type": "stream",
     "text": [
      "pH Sensor value has exceeded threshold Permissible Limit\n",
      "This is the Telegram URL\n",
      "https://api.telegram.org/bot1371882065:AAHejdhLII5ib4TVf7JHC7lICYqoH4ZcrgY/sendMessage\n",
      "This is the Telegram response\n",
      "{\"ok\":true,\"result\":{\"message_id\":3,\"chat\":{\"id\":-1001199773589,\"title\":\"Ideathon Project\",\"username\":\"ideathon\",\"type\":\"channel\"},\"date\":1603438801,\"text\":\"Alert! pH value has exceeded Permissible Limit 8.5. \\nThe current value is 9.5\"}}\n",
      "This is the Telegram status: True\n"
     ]
    }
   ],
   "source": [
    "#ph\n",
    "if float(data['SAMPLES'][0])> maxi:\n",
    "        print(\"pH Sensor value has exceeded threshold Permissible Limit\")\n",
    "        message = \"Alert! pH value has exceeded Permissible Limit \" + str(maxi) + \". \\nThe current value is \" +str(data['SAMPLES'][0])\n",
    "        telegram_status = send_telegram_message(message)\n",
    "        print(\"This is the Telegram status:\", telegram_status)\n",
    "if float(data['SAMPLES'][0])< mini:\n",
    "        print(\"pH Sensor value is less than  Desirable Limit\")\n",
    "        message = \"Alert! pH value less than Desirable Limit  \" + str(mini) + \". \\nThe current value is \" + str(data['SAMPLES'][0])\n",
    "        telegram_status = send_telegram_message(message)\n",
    "        print(\"This is the Telegram status:\", telegram_status)"
   ]
  },
  {
   "cell_type": "code",
   "execution_count": 85,
   "metadata": {},
   "outputs": [],
   "source": [
    "#TDS\n",
    "mini1 =data['DESIRABLE LIMIT'][1]\n",
    "maxi1=data['PERMISSIBLE LIMIT'][1]"
   ]
  },
  {
   "cell_type": "code",
   "execution_count": 87,
   "metadata": {},
   "outputs": [
    {
     "name": "stdout",
     "output_type": "stream",
     "text": [
      "TDS Sensor meter value has exceeded threshold Permissible Limit\n",
      "This is the Telegram URL\n",
      "https://api.telegram.org/bot1371882065:AAHejdhLII5ib4TVf7JHC7lICYqoH4ZcrgY/sendMessage\n",
      "This is the Telegram response\n",
      "{\"ok\":true,\"result\":{\"message_id\":5,\"chat\":{\"id\":-1001199773589,\"title\":\"Ideathon Project\",\"username\":\"ideathon\",\"type\":\"channel\"},\"date\":1603438890,\"text\":\"Alert! TDS Sensor meter value has exceeded Permissible Limit2000.0.\\n The current value is 2020.0\"}}\n",
      "This is the Telegram status: True\n"
     ]
    },
    {
     "ename": "TypeError",
     "evalue": "'<=' not supported between instances of 'numpy.ndarray' and 'str'",
     "output_type": "error",
     "traceback": [
      "\u001b[1;31m---------------------------------------------------------------------------\u001b[0m",
      "\u001b[1;31mTypeError\u001b[0m                                 Traceback (most recent call last)",
      "\u001b[1;32m<ipython-input-87-f50877a73ddd>\u001b[0m in \u001b[0;36m<module>\u001b[1;34m()\u001b[0m\n\u001b[0;32m      4\u001b[0m         \u001b[0mtelegram_status\u001b[0m \u001b[1;33m=\u001b[0m \u001b[0msend_telegram_message\u001b[0m\u001b[1;33m(\u001b[0m\u001b[0mmessage\u001b[0m\u001b[1;33m)\u001b[0m\u001b[1;33m\u001b[0m\u001b[0m\n\u001b[0;32m      5\u001b[0m         \u001b[0mprint\u001b[0m\u001b[1;33m(\u001b[0m\u001b[1;34m\"This is the Telegram status:\"\u001b[0m\u001b[1;33m,\u001b[0m \u001b[0mtelegram_status\u001b[0m\u001b[1;33m)\u001b[0m\u001b[1;33m\u001b[0m\u001b[0m\n\u001b[1;32m----> 6\u001b[1;33m \u001b[1;32mif\u001b[0m \u001b[0mdata\u001b[0m\u001b[1;33m[\u001b[0m\u001b[1;34m'SAMPLES'\u001b[0m\u001b[1;33m]\u001b[0m\u001b[1;33m[\u001b[0m\u001b[1;36m1\u001b[0m\u001b[1;33m]\u001b[0m \u001b[1;33m<=\u001b[0m\u001b[0mmini1\u001b[0m\u001b[1;33m:\u001b[0m\u001b[1;33m\u001b[0m\u001b[0m\n\u001b[0m\u001b[0;32m      7\u001b[0m         \u001b[0mprint\u001b[0m\u001b[1;33m(\u001b[0m\u001b[1;34m\"TDS Sensor metervalue is less than  Desirable Limit\"\u001b[0m\u001b[1;33m)\u001b[0m\u001b[1;33m\u001b[0m\u001b[0m\n\u001b[0;32m      8\u001b[0m         \u001b[0mmessage\u001b[0m \u001b[1;33m=\u001b[0m \u001b[1;34m\"Alert! TDS Sensor meter value less than Desirable Limit  \"\u001b[0m \u001b[1;33m+\u001b[0m \u001b[0mstr\u001b[0m\u001b[1;33m(\u001b[0m\u001b[0mmini1\u001b[0m\u001b[1;33m)\u001b[0m \u001b[1;33m+\u001b[0m \u001b[1;34m\". \\nThe current value is \"\u001b[0m \u001b[1;33m+\u001b[0m \u001b[0mstr\u001b[0m\u001b[1;33m(\u001b[0m\u001b[0mdata\u001b[0m\u001b[1;33m[\u001b[0m\u001b[1;34m'SAMPLES'\u001b[0m\u001b[1;33m]\u001b[0m\u001b[1;33m[\u001b[0m\u001b[1;36m1\u001b[0m\u001b[1;33m]\u001b[0m\u001b[1;33m)\u001b[0m\u001b[1;33m\u001b[0m\u001b[0m\n",
      "\u001b[1;31mTypeError\u001b[0m: '<=' not supported between instances of 'numpy.ndarray' and 'str'"
     ]
    }
   ],
   "source": [
    "if data['SAMPLES'][1]> maxi1:\n",
    "        print(\"TDS Sensor meter value has exceeded threshold Permissible Limit\")\n",
    "        message = \"Alert! TDS Sensor meter value has exceeded Permissible Limit\" + str(maxi1) + \".\\n The current value is \" + str(data['SAMPLES'][1])\n",
    "        telegram_status = send_telegram_message(message)\n",
    "        print(\"This is the Telegram status:\", telegram_status)\n",
    "if data['SAMPLES'][1] <=mini1:\n",
    "        print(\"TDS Sensor metervalue is less than  Desirable Limit\")\n",
    "        message = \"Alert! TDS Sensor meter value less than Desirable Limit  \" + str(mini1) + \". \\nThe current value is \" + str(data['SAMPLES'][1])\n",
    "        telegram_status = send_telegram_message(message)\n",
    "        print(\"This is the Telegram status:\", telegram_status)"
   ]
  },
  {
   "cell_type": "code",
   "execution_count": 88,
   "metadata": {},
   "outputs": [],
   "source": [
    "#Chloride\n",
    "mini2 =data['DESIRABLE LIMIT'][2]\n",
    "maxi2=data['PERMISSIBLE LIMIT'][2]"
   ]
  },
  {
   "cell_type": "code",
   "execution_count": 90,
   "metadata": {},
   "outputs": [
    {
     "name": "stdout",
     "output_type": "stream",
     "text": [
      "Chloride value has exceeded threshold Permissible Limit\n",
      "This is the Telegram URL\n",
      "https://api.telegram.org/bot1371882065:AAHejdhLII5ib4TVf7JHC7lICYqoH4ZcrgY/sendMessage\n",
      "This is the Telegram response\n",
      "{\"ok\":true,\"result\":{\"message_id\":7,\"chat\":{\"id\":-1001199773589,\"title\":\"Ideathon Project\",\"username\":\"ideathon\",\"type\":\"channel\"},\"date\":1603439436,\"text\":\"Alert! Chloride value has exceeded Permissible Limit1000.0.\\n The current value is 1159.0\"}}\n",
      "This is the Telegram status: True\n"
     ]
    },
    {
     "ename": "TypeError",
     "evalue": "'<' not supported between instances of 'numpy.ndarray' and 'str'",
     "output_type": "error",
     "traceback": [
      "\u001b[1;31m---------------------------------------------------------------------------\u001b[0m",
      "\u001b[1;31mTypeError\u001b[0m                                 Traceback (most recent call last)",
      "\u001b[1;32m<ipython-input-90-2d65daf5c53c>\u001b[0m in \u001b[0;36m<module>\u001b[1;34m()\u001b[0m\n\u001b[0;32m      4\u001b[0m         \u001b[0mtelegram_status\u001b[0m \u001b[1;33m=\u001b[0m \u001b[0msend_telegram_message\u001b[0m\u001b[1;33m(\u001b[0m\u001b[0mmessage\u001b[0m\u001b[1;33m)\u001b[0m\u001b[1;33m\u001b[0m\u001b[0m\n\u001b[0;32m      5\u001b[0m         \u001b[0mprint\u001b[0m\u001b[1;33m(\u001b[0m\u001b[1;34m\"This is the Telegram status:\"\u001b[0m\u001b[1;33m,\u001b[0m \u001b[0mtelegram_status\u001b[0m\u001b[1;33m)\u001b[0m\u001b[1;33m\u001b[0m\u001b[0m\n\u001b[1;32m----> 6\u001b[1;33m \u001b[1;32mif\u001b[0m \u001b[0mdata\u001b[0m\u001b[1;33m[\u001b[0m\u001b[1;34m'SAMPLES'\u001b[0m\u001b[1;33m]\u001b[0m\u001b[1;33m[\u001b[0m\u001b[1;36m2\u001b[0m\u001b[1;33m]\u001b[0m \u001b[1;33m<\u001b[0m \u001b[0mmini2\u001b[0m\u001b[1;33m:\u001b[0m\u001b[1;33m\u001b[0m\u001b[0m\n\u001b[0m\u001b[0;32m      7\u001b[0m         \u001b[0mprint\u001b[0m\u001b[1;33m(\u001b[0m\u001b[1;34m\"Chloride value is less than  Desirable Limit\"\u001b[0m\u001b[1;33m)\u001b[0m\u001b[1;33m\u001b[0m\u001b[0m\n\u001b[0;32m      8\u001b[0m         \u001b[0mmessage\u001b[0m \u001b[1;33m=\u001b[0m \u001b[1;34m\"Alert! Chloride value less than Desirable Limit  \"\u001b[0m \u001b[1;33m+\u001b[0m \u001b[0mstr\u001b[0m\u001b[1;33m(\u001b[0m\u001b[0mmini2\u001b[0m\u001b[1;33m)\u001b[0m \u001b[1;33m+\u001b[0m \u001b[1;34m\". \\nThe current value is \"\u001b[0m \u001b[1;33m+\u001b[0m \u001b[0mstr\u001b[0m\u001b[1;33m(\u001b[0m\u001b[0mdata\u001b[0m\u001b[1;33m[\u001b[0m\u001b[1;34m'SAMPLES'\u001b[0m\u001b[1;33m]\u001b[0m\u001b[1;33m[\u001b[0m\u001b[1;36m2\u001b[0m\u001b[1;33m]\u001b[0m\u001b[1;33m)\u001b[0m\u001b[1;33m\u001b[0m\u001b[0m\n",
      "\u001b[1;31mTypeError\u001b[0m: '<' not supported between instances of 'numpy.ndarray' and 'str'"
     ]
    }
   ],
   "source": [
    "if data['SAMPLES'][2]> maxi2:\n",
    "        print(\"Chloride value has exceeded threshold Permissible Limit\")\n",
    "        message = \"Alert! Chloride value has exceeded Permissible Limit\" + str(maxi2) + \".\\n The current value is \" + str(data['SAMPLES'][2])\n",
    "        telegram_status = send_telegram_message(message)\n",
    "        print(\"This is the Telegram status:\", telegram_status)\n",
    "if data['SAMPLES'][2] < mini2:\n",
    "        print(\"Chloride value is less than  Desirable Limit\")\n",
    "        message = \"Alert! Chloride value less than Desirable Limit  \" + str(mini2) + \". \\nThe current value is \" + str(data['SAMPLES'][2])\n",
    "        telegram_status = send_telegram_message(message)\n",
    "        print(\"This is the Telegram status:\", telegram_status)"
   ]
  },
  {
   "cell_type": "code",
   "execution_count": null,
   "metadata": {},
   "outputs": [],
   "source": []
  }
 ],
 "metadata": {
  "kernelspec": {
   "display_name": "Python 3",
   "language": "python",
   "name": "python3"
  },
  "language_info": {
   "codemirror_mode": {
    "name": "ipython",
    "version": 3
   },
   "file_extension": ".py",
   "mimetype": "text/x-python",
   "name": "python",
   "nbconvert_exporter": "python",
   "pygments_lexer": "ipython3",
   "version": "3.7.0"
  }
 },
 "nbformat": 4,
 "nbformat_minor": 2
}
