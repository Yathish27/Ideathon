{
 "cells": [
  {
   "cell_type": "code",
   "execution_count": 33,
   "metadata": {},
   "outputs": [],
   "source": [
    "import numpy as np\n",
    "import pandas as pd\n",
    "import matplotlib.pyplot as plt\n"
   ]
  },
  {
   "cell_type": "code",
   "execution_count": 115,
   "metadata": {},
   "outputs": [],
   "source": [
    "data=pd.read_csv('Wastewateranalysis.csv')\n"
   ]
  },
  {
   "cell_type": "code",
   "execution_count": 116,
   "metadata": {},
   "outputs": [],
   "source": [
    "from boltiot import Email, Bolt\n",
    "import json, time\n",
    "import requests \n",
    "import confnew"
   ]
  },
  {
   "cell_type": "code",
   "execution_count": 159,
   "metadata": {},
   "outputs": [],
   "source": [
    "API_KEY = '0fe8eb10-a5cf-422f-9c27-be5666b91739'\n",
    "DEVICE_ID = 'BOLT4628336'\n"
   ]
  },
  {
   "cell_type": "code",
   "execution_count": 139,
   "metadata": {},
   "outputs": [],
   "source": [
    "#PH\n",
    "mini =float(data['DESIRABLE LIMIT'][0][0:3])\n",
    "maxi=data['PERMISSIBLE LIMIT'][0]"
   ]
  },
  {
   "cell_type": "code",
   "execution_count": 140,
   "metadata": {},
   "outputs": [],
   "source": [
    "def send_telegram_message(message):\n",
    "    \"\"\"Sends message via Telegram\"\"\"\n",
    "    url = \"https://api.telegram.org/\" + confnew.telegram_bot_id + \"/sendMessage\"\n",
    "    data = {\n",
    "        \"chat_id\": confnew.telegram_chat_id,\n",
    "        \"text\": message\n",
    "    }\n",
    "    try:\n",
    "        response = requests.request(\"POST\",url,params=data        )\n",
    "        print(\"This is the Telegram URL\")\n",
    "        print(url)\n",
    "        print(\"This is the Telegram response\")\n",
    "        print(response.text)\n",
    "        telegram_data = json.loads(response.text)\n",
    "        return telegram_data[\"ok\"]\n",
    "    except Exception as e:\n",
    "        print(\"An error occurred in sending the alert message via Telegram\")\n",
    "        print(e)\n",
    "        return False"
   ]
  },
  {
   "cell_type": "code",
   "execution_count": 141,
   "metadata": {},
   "outputs": [],
   "source": [
    "test_passed=[]"
   ]
  },
  {
   "cell_type": "code",
   "execution_count": 164,
   "metadata": {},
   "outputs": [
    {
     "name": "stdout",
     "output_type": "stream",
     "text": [
      "pH Sensor value has exceeded threshold Permissible Limit\n",
      "This is the Telegram URL\n",
      "https://api.telegram.org/bot1371882065:AAHejdhLII5ib4TVf7JHC7lICYqoH4ZcrgY/sendMessage\n",
      "This is the Telegram response\n",
      "{\"ok\":true,\"result\":{\"message_id\":39,\"chat\":{\"id\":-1001199773589,\"title\":\"Ideathon Project\",\"username\":\"ideathon\",\"type\":\"channel\"},\"date\":1603469543,\"text\":\"Alert! pH value has exceeded Permissible Limit :8.5. \\n The current value is 9.5\"}}\n",
      "This is the Telegram status: True\n",
      "{\"value\": \"1\", \"success\": 1}\n"
     ]
    }
   ],
   "source": [
    "#ph sensor\n",
    "if float(data['SAMPLES'][0])> maxi:\n",
    "        print(\"pH Sensor value has exceeded threshold Permissible Limit\")\n",
    "        message = \"Alert! pH value has exceeded Permissible Limit :\" + str(maxi) + \". \\n The current value is \" +str(data['SAMPLES'][0])\n",
    "        telegram_status = send_telegram_message(message)\n",
    "        print(\"This is the Telegram status:\", telegram_status)\n",
    "        test_passed.append(0)\n",
    "        mybolt = Bolt(API_KEY, DEVICE_ID)\n",
    "        response = mybolt.analogWrite('0','100')\n",
    "        print (response)\n",
    "if float(data['SAMPLES'][0])< mini:\n",
    "        print(\"pH Sensor value is less than  Desirable Limit\")\n",
    "        message = \"Alert! pH value less than Desirable Limit:  \" + str(mini) + \". \\n The current value is \" + str(data['SAMPLES'][0])\n",
    "        telegram_status = send_telegram_message(message)\n",
    "        print(\"This is the Telegram status:\", telegram_status)\n",
    "        mybolt = Bolt(API_KEY, DEVICE_ID)\n",
    "        response = mybolt.analogWrite('0','100')\n",
    "        print (response)\n",
    "        test_passed.append(0)\n",
    "if float(data['SAMPLES'][0])< maxi and float(data['SAMPLES'][0])> mini:\n",
    "    print(\"pH test passed\")\n",
    "    test_passed.append(1)"
   ]
  },
  {
   "cell_type": "code",
   "execution_count": 143,
   "metadata": {},
   "outputs": [],
   "source": [
    "#TDS meter\n",
    "mini1 =int(data['DESIRABLE LIMIT'][1])\n",
    "maxi1=int(data['PERMISSIBLE LIMIT'][1])"
   ]
  },
  {
   "cell_type": "code",
   "execution_count": 144,
   "metadata": {},
   "outputs": [
    {
     "name": "stdout",
     "output_type": "stream",
     "text": [
      "TDS Sensor meter value has exceeded threshold Permissible Limit\n",
      "This is the Telegram URL\n",
      "https://api.telegram.org/bot1371882065:AAHejdhLII5ib4TVf7JHC7lICYqoH4ZcrgY/sendMessage\n",
      "This is the Telegram response\n",
      "{\"ok\":true,\"result\":{\"message_id\":28,\"chat\":{\"id\":-1001199773589,\"title\":\"Ideathon Project\",\"username\":\"ideathon\",\"type\":\"channel\"},\"date\":1603454548,\"text\":\"Alert! TDS Sensor meter value has exceeded Permissible Limit:2000.\\n The current value is 2020.0\"}}\n",
      "This is the Telegram status: True\n"
     ]
    }
   ],
   "source": [
    "if data['SAMPLES'][1]> maxi1:\n",
    "        print(\"TDS Sensor meter value has exceeded threshold Permissible Limit\")\n",
    "        message = \"Alert! TDS Sensor meter value has exceeded Permissible Limit:\" + str(maxi1) + \".\\n The current value is \" + str(data['SAMPLES'][1])\n",
    "        telegram_status = send_telegram_message(message)\n",
    "        print(\"This is the Telegram status:\", telegram_status)\n",
    "        test_passed.append(0)\n",
    "if data['SAMPLES'][1] < mini1:\n",
    "        print(\"TDS Sensor metervalue is less than  Desirable Limit\")\n",
    "        message = \"Alert! TDS Sensor meter value less than Desirable Limit:\" + str(mini1) + \". \\n The current value is \" + str(data['SAMPLES'][1])\n",
    "        telegram_status = send_telegram_message(message)\n",
    "        print(\"This is the Telegram status:\", telegram_status)\n",
    "        test_passed.append(0)\n",
    "if float(data['SAMPLES'][1])< maxi1 and float(data['SAMPLES'][1])> mini1:\n",
    "    print(\"TDS test passed\")\n",
    "    test_passed.append(1)"
   ]
  },
  {
   "cell_type": "code",
   "execution_count": 104,
   "metadata": {},
   "outputs": [],
   "source": [
    "#Lab analysis of Cl,Ca,Alkalinity and Total hardness in ppm"
   ]
  },
  {
   "cell_type": "code",
   "execution_count": 145,
   "metadata": {},
   "outputs": [],
   "source": [
    "#Chloride\n",
    "mini2 =int(data['DESIRABLE LIMIT'][2])\n",
    "maxi2=int(data['PERMISSIBLE LIMIT'][2])"
   ]
  },
  {
   "cell_type": "code",
   "execution_count": 146,
   "metadata": {},
   "outputs": [
    {
     "name": "stdout",
     "output_type": "stream",
     "text": [
      "Chloride value has exceeded threshold Permissible Limit\n",
      "This is the Telegram URL\n",
      "https://api.telegram.org/bot1371882065:AAHejdhLII5ib4TVf7JHC7lICYqoH4ZcrgY/sendMessage\n",
      "This is the Telegram response\n",
      "{\"ok\":true,\"result\":{\"message_id\":29,\"chat\":{\"id\":-1001199773589,\"title\":\"Ideathon Project\",\"username\":\"ideathon\",\"type\":\"channel\"},\"date\":1603454555,\"text\":\"Alert! Chloride value has exceeded Permissible Limit:1000.\\n The current value is 1159.0\"}}\n",
      "This is the Telegram status: True\n"
     ]
    }
   ],
   "source": [
    "if data['SAMPLES'][2]> maxi2:\n",
    "        print(\"Chloride value has exceeded threshold Permissible Limit\")\n",
    "        message = \"Alert! Chloride value has exceeded Permissible Limit:\" + str(maxi2) + \".\\n The current value is \" + str(data['SAMPLES'][2])\n",
    "        telegram_status = send_telegram_message(message)\n",
    "        print(\"This is the Telegram status:\", telegram_status)\n",
    "        test_passed.append(0)\n",
    "if data['SAMPLES'][2] < mini2:\n",
    "        print(\"Chloride value is less than  Desirable Limit\")\n",
    "        message = \"Alert! Chloride value less than Desirable Limit :\" + str(mini2) + \". \\n The current value is \" + str(data['SAMPLES'][2])\n",
    "        telegram_status = send_telegram_message(message)\n",
    "        print(\"This is the Telegram status:\", telegram_status)\n",
    "        test_passed.append(0)\n",
    "if float(data['SAMPLES'][2])< maxi2 and float(data['SAMPLES'][2])> mini2:\n",
    "    print(\"Chloride test passed\")\n",
    "    test_passed.append(1)"
   ]
  },
  {
   "cell_type": "code",
   "execution_count": 147,
   "metadata": {},
   "outputs": [],
   "source": [
    "mini3 =int(data['DESIRABLE LIMIT'][3])\n",
    "maxi3=int(data['PERMISSIBLE LIMIT'][3])"
   ]
  },
  {
   "cell_type": "code",
   "execution_count": 148,
   "metadata": {},
   "outputs": [
    {
     "name": "stdout",
     "output_type": "stream",
     "text": [
      "Calcium  value has exceeded threshold Permissible Limit\n",
      "This is the Telegram URL\n",
      "https://api.telegram.org/bot1371882065:AAHejdhLII5ib4TVf7JHC7lICYqoH4ZcrgY/sendMessage\n",
      "This is the Telegram response\n",
      "{\"ok\":true,\"result\":{\"message_id\":30,\"chat\":{\"id\":-1001199773589,\"title\":\"Ideathon Project\",\"username\":\"ideathon\",\"type\":\"channel\"},\"date\":1603454560,\"text\":\"Alert! Calcium  value has exceeded Permissible Limit:200.\\n The current value is 860.0\"}}\n",
      "This is the Telegram status: True\n"
     ]
    }
   ],
   "source": [
    "if data['SAMPLES'][3]> maxi3:\n",
    "        print(\"Calcium  value has exceeded threshold Permissible Limit\")\n",
    "        message = \"Alert! Calcium  value has exceeded Permissible Limit:\" + str(maxi3) + \".\\n The current value is \" + str(data['SAMPLES'][3])\n",
    "        telegram_status = send_telegram_message(message)\n",
    "        print(\"This is the Telegram status:\", telegram_status)\n",
    "        test_passed.append(0)\n",
    "if data['SAMPLES'][3] < mini3:\n",
    "        print(\"Calcium value is less than  Desirable Limit\")\n",
    "        message = \"Alert! Calcium  value less than Desirable Limit :\" + str(mini3) + \". \\n The current value is \" + str(data['SAMPLES'][3])\n",
    "        telegram_status = send_telegram_message(message)\n",
    "        print(\"This is the Telegram status:\", telegram_status)\n",
    "        test_passed.append(0)\n",
    "if float(data['SAMPLES'][3])< maxi3 and float(data['SAMPLES'][3])> mini3:\n",
    "    print(\"Calcium test passed\")\n",
    "    test_passed.append(1)"
   ]
  },
  {
   "cell_type": "code",
   "execution_count": 149,
   "metadata": {},
   "outputs": [],
   "source": [
    "mini4 =int(data['DESIRABLE LIMIT'][4])\n",
    "maxi4=int(data['PERMISSIBLE LIMIT'][4])"
   ]
  },
  {
   "cell_type": "code",
   "execution_count": 150,
   "metadata": {},
   "outputs": [
    {
     "name": "stdout",
     "output_type": "stream",
     "text": [
      "Calcium value is less than  Desirable Limit\n",
      "This is the Telegram URL\n",
      "https://api.telegram.org/bot1371882065:AAHejdhLII5ib4TVf7JHC7lICYqoH4ZcrgY/sendMessage\n",
      "This is the Telegram response\n",
      "{\"ok\":true,\"result\":{\"message_id\":31,\"chat\":{\"id\":-1001199773589,\"title\":\"Ideathon Project\",\"username\":\"ideathon\",\"type\":\"channel\"},\"date\":1603454565,\"text\":\"Alert! Alkalinity value less than Desirable Limit :200. \\n The current value is 172.0\"}}\n",
      "This is the Telegram status: True\n"
     ]
    }
   ],
   "source": [
    "if data['SAMPLES'][4]> maxi4:\n",
    "        print(\"Alkalinity  value has exceeded threshold Permissible Limit\")\n",
    "        message = \"Alert! Alkalinity value has exceeded Permissible Limit:\" + str(maxi4) + \".\\n The current value is \" + str(data['SAMPLES'][4])\n",
    "        telegram_status = send_telegram_message(message)\n",
    "        print(\"This is the Telegram status:\", telegram_status)\n",
    "        test_passed.append(0)\n",
    "if data['SAMPLES'][4] < mini4:\n",
    "        print(\"Calcium value is less than  Desirable Limit\")\n",
    "        message = \"Alert! Alkalinity value less than Desirable Limit :\" + str(mini4) + \". \\n The current value is \" + str(data['SAMPLES'][4])\n",
    "        telegram_status = send_telegram_message(message)\n",
    "        print(\"This is the Telegram status:\", telegram_status)\n",
    "        test_passed.append(0)\n",
    "if data['SAMPLES'][4]< maxi4 and data['SAMPLES'][4] > mini4:\n",
    "    print(\"Alkalinity test passed\")\n",
    "    test_passed.append(1)"
   ]
  },
  {
   "cell_type": "code",
   "execution_count": 151,
   "metadata": {},
   "outputs": [],
   "source": [
    "mini5 =int(data['DESIRABLE LIMIT'][5])\n",
    "maxi5=int(data['PERMISSIBLE LIMIT'][5])"
   ]
  },
  {
   "cell_type": "code",
   "execution_count": 152,
   "metadata": {},
   "outputs": [
    {
     "name": "stdout",
     "output_type": "stream",
     "text": [
      "TSS sensor value has exceeded threshold Permissible Limit\n",
      "This is the Telegram URL\n",
      "https://api.telegram.org/bot1371882065:AAHejdhLII5ib4TVf7JHC7lICYqoH4ZcrgY/sendMessage\n",
      "This is the Telegram response\n",
      "{\"ok\":true,\"result\":{\"message_id\":32,\"chat\":{\"id\":-1001199773589,\"title\":\"Ideathon Project\",\"username\":\"ideathon\",\"type\":\"channel\"},\"date\":1603454570,\"text\":\"Alert! TSS value has exceeded Permissible Limit:25.\\n The current value is 100.0\"}}\n",
      "This is the Telegram status: True\n"
     ]
    }
   ],
   "source": [
    "if data['SAMPLES'][5]> maxi5:\n",
    "        print(\"TSS sensor value has exceeded threshold Permissible Limit\")\n",
    "        message = \"Alert! TSS value has exceeded Permissible Limit:\" + str(maxi5) + \".\\n The current value is \" + str(data['SAMPLES'][5])\n",
    "        telegram_status = send_telegram_message(message)\n",
    "        print(\"This is the Telegram status:\", telegram_status)\n",
    "        test_passed.append(0)\n",
    "if data['SAMPLES'][5] < mini5:\n",
    "        print(\"TSS sensor value is less than  Desirable Limit\")\n",
    "        message = \"Alert! TSSe value less than Desirable Limit :\" + str(mini5) + \". \\n The current value is \" + str(data['SAMPLES'][5])\n",
    "        telegram_status = send_telegram_message(message)\n",
    "        print(\"This is the Telegram status:\", telegram_status)\n",
    "        test_passed.append(0)\n",
    "if data['SAMPLES'][5]< maxi5 and data['SAMPLES'][5] > mini5:\n",
    "    print(\"TSS test passed\")\n",
    "    test_passed.append(1)"
   ]
  },
  {
   "cell_type": "code",
   "execution_count": 153,
   "metadata": {},
   "outputs": [
    {
     "name": "stdout",
     "output_type": "stream",
     "text": [
      "2120.0 ppm of solid waste\n"
     ]
    }
   ],
   "source": [
    "#Total Solids(TS)=TDS+TSS\n",
    "#TS amount of solids needed to be filtered by the filter mesh using stainless steel\n",
    "TS=data['SAMPLES'][1]+data['SAMPLES'][5]\n",
    "print(TS,\"ppm\"+\" of solid waste\")"
   ]
  },
  {
   "cell_type": "code",
   "execution_count": 154,
   "metadata": {},
   "outputs": [],
   "source": [
    "mini6 =int(data['DESIRABLE LIMIT'][6])\n",
    "maxi6=int(data['PERMISSIBLE LIMIT'][6])"
   ]
  },
  {
   "cell_type": "code",
   "execution_count": 156,
   "metadata": {},
   "outputs": [
    {
     "name": "stdout",
     "output_type": "stream",
     "text": [
      "Total hardness sensor value is less than  Desirable Limit\n",
      "This is the Telegram URL\n",
      "https://api.telegram.org/bot1371882065:AAHejdhLII5ib4TVf7JHC7lICYqoH4ZcrgY/sendMessage\n",
      "This is the Telegram response\n",
      "{\"ok\":true,\"result\":{\"message_id\":34,\"chat\":{\"id\":-1001199773589,\"title\":\"Ideathon Project\",\"username\":\"ideathon\",\"type\":\"channel\"},\"date\":1603454594,\"text\":\"Alert! Total hardness value less than Desirable Limit :300. \\n The current value is 100.0\"}}\n",
      "This is the Telegram status: True\n"
     ]
    }
   ],
   "source": [
    "if data['SAMPLES'][6]> maxi6:\n",
    "        print(\"Total hardness sensor value has exceeded threshold Permissible Limit\")\n",
    "        message = \"Alert! Total hardness value has exceeded Permissible Limit:\" + str(maxi6) + \".\\n The current value is \" + str(data['SAMPLES'][6])\n",
    "        telegram_status = send_telegram_message(message)\n",
    "        print(\"This is the Telegram status:\", telegram_status)\n",
    "        test_passed.append(0)\n",
    "if data['SAMPLES'][6] < mini6:\n",
    "        print(\"Total hardness sensor value is less than  Desirable Limit\")\n",
    "        message = \"Alert! Total hardness value less than Desirable Limit :\" + str(mini6) + \". \\n The current value is \" + str(data['SAMPLES'][6])\n",
    "        telegram_status = send_telegram_message(message)\n",
    "        print(\"This is the Telegram status:\", telegram_status)\n",
    "        test_passed.append(0)\n",
    "if data['SAMPLES'][6]< maxi6 and data['SAMPLES'][6] > mini6:\n",
    "    print(\"TSS test passed\")\n",
    "    test_passed.append(1)"
   ]
  },
  {
   "cell_type": "code",
   "execution_count": 157,
   "metadata": {},
   "outputs": [
    {
     "data": {
      "text/plain": [
       "[0, 0, 0, 0, 0, 0, 0, 0]"
      ]
     },
     "execution_count": 157,
     "metadata": {},
     "output_type": "execute_result"
    }
   ],
   "source": [
    "test_passed"
   ]
  },
  {
   "cell_type": "code",
   "execution_count": 158,
   "metadata": {},
   "outputs": [
    {
     "name": "stdout",
     "output_type": "stream",
     "text": [
      "Unfit water purification required\n"
     ]
    }
   ],
   "source": [
    "cnt=0\n",
    "for i in test_passed:\n",
    "    if i==1:\n",
    "        cnt+=1\n",
    "if cnt==7:\n",
    "    print(\"Test succeded can be used as non portable water\")\n",
    "if cnt >5:\n",
    "    print(\"Treatment requried\")\n",
    "else:\n",
    "    print(\"Unfit water purification required\")"
   ]
  },
  {
   "cell_type": "code",
   "execution_count": null,
   "metadata": {},
   "outputs": [],
   "source": []
  }
 ],
 "metadata": {
  "kernelspec": {
   "display_name": "Python 3",
   "language": "python",
   "name": "python3"
  },
  "language_info": {
   "codemirror_mode": {
    "name": "ipython",
    "version": 3
   },
   "file_extension": ".py",
   "mimetype": "text/x-python",
   "name": "python",
   "nbconvert_exporter": "python",
   "pygments_lexer": "ipython3",
   "version": "3.7.0"
  }
 },
 "nbformat": 4,
 "nbformat_minor": 2
}
